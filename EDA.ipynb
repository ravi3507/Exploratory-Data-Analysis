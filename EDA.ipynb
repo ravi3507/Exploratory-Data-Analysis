{
  "nbformat": 4,
  "nbformat_minor": 0,
  "metadata": {
    "colab": {
      "provenance": [],
      "collapsed_sections": [],
      "authorship_tag": "ABX9TyMM99MQoBrQ8enMajL3urIT",
      "include_colab_link": true
    },
    "kernelspec": {
      "name": "python3",
      "display_name": "Python 3"
    },
    "language_info": {
      "name": "python"
    }
  },
  "cells": [
    {
      "cell_type": "markdown",
      "metadata": {
        "id": "view-in-github",
        "colab_type": "text"
      },
      "source": [
        "<a href=\"https://colab.research.google.com/github/ravi3507/Exploratory-Data-Analysis/blob/main/EDA.ipynb\" target=\"_parent\"><img src=\"https://colab.research.google.com/assets/colab-badge.svg\" alt=\"Open In Colab\"/></a>"
      ]
    },
    {
      "cell_type": "code",
      "source": [
        "import pandas as pd\n",
        "import numpy as np\n"
      ],
      "metadata": {
        "id": "Q9cxu9oNFyTv"
      },
      "execution_count": 1,
      "outputs": []
    },
    {
      "cell_type": "code",
      "source": [
        "df=pd.read_csv(\"IPL_B2B_Dataset.csv\")\n",
        "df.head()"
      ],
      "metadata": {
        "id": "iZafMuIqF5wU",
        "colab": {
          "base_uri": "https://localhost:8080/",
          "height": 444
        },
        "outputId": "2b46ac98-543e-49aa-b07b-7c8a2fa3a3a7"
      },
      "execution_count": 3,
      "outputs": [
        {
          "output_type": "execute_result",
          "data": {
            "text/plain": [
              "   Index                 batting_team         bowling_team       city  \\\n",
              "0      0  Royal Challengers Bangalore  Sunrisers Hyderabad  Hyderabad   \n",
              "1      1  Royal Challengers Bangalore  Sunrisers Hyderabad  Hyderabad   \n",
              "2      2  Royal Challengers Bangalore  Sunrisers Hyderabad  Hyderabad   \n",
              "3      3  Royal Challengers Bangalore  Sunrisers Hyderabad  Hyderabad   \n",
              "4      4  Royal Challengers Bangalore  Sunrisers Hyderabad  Hyderabad   \n",
              "\n",
              "   runs_left  balls_left  wickets  target_runs  cur_run_rate req_run_rate  \\\n",
              "0        207         119       10          208           6.0  10.43697479   \n",
              "1        207         118       10          208           3.0  10.52542373   \n",
              "2        207         117       10          208           2.0  10.61538462   \n",
              "3        205         116       10          208           4.5  10.60344828   \n",
              "4        201         115       10          208           8.4  10.48695652   \n",
              "\n",
              "   result  \n",
              "0       0  \n",
              "1       0  \n",
              "2       0  \n",
              "3       0  \n",
              "4       0  "
            ],
            "text/html": [
              "\n",
              "  <div id=\"df-bface5ad-5681-4f4f-9c7a-6f628e1b24f8\">\n",
              "    <div class=\"colab-df-container\">\n",
              "      <div>\n",
              "<style scoped>\n",
              "    .dataframe tbody tr th:only-of-type {\n",
              "        vertical-align: middle;\n",
              "    }\n",
              "\n",
              "    .dataframe tbody tr th {\n",
              "        vertical-align: top;\n",
              "    }\n",
              "\n",
              "    .dataframe thead th {\n",
              "        text-align: right;\n",
              "    }\n",
              "</style>\n",
              "<table border=\"1\" class=\"dataframe\">\n",
              "  <thead>\n",
              "    <tr style=\"text-align: right;\">\n",
              "      <th></th>\n",
              "      <th>Index</th>\n",
              "      <th>batting_team</th>\n",
              "      <th>bowling_team</th>\n",
              "      <th>city</th>\n",
              "      <th>runs_left</th>\n",
              "      <th>balls_left</th>\n",
              "      <th>wickets</th>\n",
              "      <th>target_runs</th>\n",
              "      <th>cur_run_rate</th>\n",
              "      <th>req_run_rate</th>\n",
              "      <th>result</th>\n",
              "    </tr>\n",
              "  </thead>\n",
              "  <tbody>\n",
              "    <tr>\n",
              "      <th>0</th>\n",
              "      <td>0</td>\n",
              "      <td>Royal Challengers Bangalore</td>\n",
              "      <td>Sunrisers Hyderabad</td>\n",
              "      <td>Hyderabad</td>\n",
              "      <td>207</td>\n",
              "      <td>119</td>\n",
              "      <td>10</td>\n",
              "      <td>208</td>\n",
              "      <td>6.0</td>\n",
              "      <td>10.43697479</td>\n",
              "      <td>0</td>\n",
              "    </tr>\n",
              "    <tr>\n",
              "      <th>1</th>\n",
              "      <td>1</td>\n",
              "      <td>Royal Challengers Bangalore</td>\n",
              "      <td>Sunrisers Hyderabad</td>\n",
              "      <td>Hyderabad</td>\n",
              "      <td>207</td>\n",
              "      <td>118</td>\n",
              "      <td>10</td>\n",
              "      <td>208</td>\n",
              "      <td>3.0</td>\n",
              "      <td>10.52542373</td>\n",
              "      <td>0</td>\n",
              "    </tr>\n",
              "    <tr>\n",
              "      <th>2</th>\n",
              "      <td>2</td>\n",
              "      <td>Royal Challengers Bangalore</td>\n",
              "      <td>Sunrisers Hyderabad</td>\n",
              "      <td>Hyderabad</td>\n",
              "      <td>207</td>\n",
              "      <td>117</td>\n",
              "      <td>10</td>\n",
              "      <td>208</td>\n",
              "      <td>2.0</td>\n",
              "      <td>10.61538462</td>\n",
              "      <td>0</td>\n",
              "    </tr>\n",
              "    <tr>\n",
              "      <th>3</th>\n",
              "      <td>3</td>\n",
              "      <td>Royal Challengers Bangalore</td>\n",
              "      <td>Sunrisers Hyderabad</td>\n",
              "      <td>Hyderabad</td>\n",
              "      <td>205</td>\n",
              "      <td>116</td>\n",
              "      <td>10</td>\n",
              "      <td>208</td>\n",
              "      <td>4.5</td>\n",
              "      <td>10.60344828</td>\n",
              "      <td>0</td>\n",
              "    </tr>\n",
              "    <tr>\n",
              "      <th>4</th>\n",
              "      <td>4</td>\n",
              "      <td>Royal Challengers Bangalore</td>\n",
              "      <td>Sunrisers Hyderabad</td>\n",
              "      <td>Hyderabad</td>\n",
              "      <td>201</td>\n",
              "      <td>115</td>\n",
              "      <td>10</td>\n",
              "      <td>208</td>\n",
              "      <td>8.4</td>\n",
              "      <td>10.48695652</td>\n",
              "      <td>0</td>\n",
              "    </tr>\n",
              "  </tbody>\n",
              "</table>\n",
              "</div>\n",
              "      <button class=\"colab-df-convert\" onclick=\"convertToInteractive('df-bface5ad-5681-4f4f-9c7a-6f628e1b24f8')\"\n",
              "              title=\"Convert this dataframe to an interactive table.\"\n",
              "              style=\"display:none;\">\n",
              "        \n",
              "  <svg xmlns=\"http://www.w3.org/2000/svg\" height=\"24px\"viewBox=\"0 0 24 24\"\n",
              "       width=\"24px\">\n",
              "    <path d=\"M0 0h24v24H0V0z\" fill=\"none\"/>\n",
              "    <path d=\"M18.56 5.44l.94 2.06.94-2.06 2.06-.94-2.06-.94-.94-2.06-.94 2.06-2.06.94zm-11 1L8.5 8.5l.94-2.06 2.06-.94-2.06-.94L8.5 2.5l-.94 2.06-2.06.94zm10 10l.94 2.06.94-2.06 2.06-.94-2.06-.94-.94-2.06-.94 2.06-2.06.94z\"/><path d=\"M17.41 7.96l-1.37-1.37c-.4-.4-.92-.59-1.43-.59-.52 0-1.04.2-1.43.59L10.3 9.45l-7.72 7.72c-.78.78-.78 2.05 0 2.83L4 21.41c.39.39.9.59 1.41.59.51 0 1.02-.2 1.41-.59l7.78-7.78 2.81-2.81c.8-.78.8-2.07 0-2.86zM5.41 20L4 18.59l7.72-7.72 1.47 1.35L5.41 20z\"/>\n",
              "  </svg>\n",
              "      </button>\n",
              "      \n",
              "  <style>\n",
              "    .colab-df-container {\n",
              "      display:flex;\n",
              "      flex-wrap:wrap;\n",
              "      gap: 12px;\n",
              "    }\n",
              "\n",
              "    .colab-df-convert {\n",
              "      background-color: #E8F0FE;\n",
              "      border: none;\n",
              "      border-radius: 50%;\n",
              "      cursor: pointer;\n",
              "      display: none;\n",
              "      fill: #1967D2;\n",
              "      height: 32px;\n",
              "      padding: 0 0 0 0;\n",
              "      width: 32px;\n",
              "    }\n",
              "\n",
              "    .colab-df-convert:hover {\n",
              "      background-color: #E2EBFA;\n",
              "      box-shadow: 0px 1px 2px rgba(60, 64, 67, 0.3), 0px 1px 3px 1px rgba(60, 64, 67, 0.15);\n",
              "      fill: #174EA6;\n",
              "    }\n",
              "\n",
              "    [theme=dark] .colab-df-convert {\n",
              "      background-color: #3B4455;\n",
              "      fill: #D2E3FC;\n",
              "    }\n",
              "\n",
              "    [theme=dark] .colab-df-convert:hover {\n",
              "      background-color: #434B5C;\n",
              "      box-shadow: 0px 1px 3px 1px rgba(0, 0, 0, 0.15);\n",
              "      filter: drop-shadow(0px 1px 2px rgba(0, 0, 0, 0.3));\n",
              "      fill: #FFFFFF;\n",
              "    }\n",
              "  </style>\n",
              "\n",
              "      <script>\n",
              "        const buttonEl =\n",
              "          document.querySelector('#df-bface5ad-5681-4f4f-9c7a-6f628e1b24f8 button.colab-df-convert');\n",
              "        buttonEl.style.display =\n",
              "          google.colab.kernel.accessAllowed ? 'block' : 'none';\n",
              "\n",
              "        async function convertToInteractive(key) {\n",
              "          const element = document.querySelector('#df-bface5ad-5681-4f4f-9c7a-6f628e1b24f8');\n",
              "          const dataTable =\n",
              "            await google.colab.kernel.invokeFunction('convertToInteractive',\n",
              "                                                     [key], {});\n",
              "          if (!dataTable) return;\n",
              "\n",
              "          const docLinkHtml = 'Like what you see? Visit the ' +\n",
              "            '<a target=\"_blank\" href=https://colab.research.google.com/notebooks/data_table.ipynb>data table notebook</a>'\n",
              "            + ' to learn more about interactive tables.';\n",
              "          element.innerHTML = '';\n",
              "          dataTable['output_type'] = 'display_data';\n",
              "          await google.colab.output.renderOutput(dataTable, element);\n",
              "          const docLink = document.createElement('div');\n",
              "          docLink.innerHTML = docLinkHtml;\n",
              "          element.appendChild(docLink);\n",
              "        }\n",
              "      </script>\n",
              "    </div>\n",
              "  </div>\n",
              "  "
            ]
          },
          "metadata": {},
          "execution_count": 3
        }
      ]
    },
    {
      "cell_type": "code",
      "source": [
        "df['result'].unique()"
      ],
      "metadata": {
        "id": "L5EmpWhlF-qb",
        "colab": {
          "base_uri": "https://localhost:8080/"
        },
        "outputId": "acc01876-648d-4194-f688-46f93a8607d6"
      },
      "execution_count": 4,
      "outputs": [
        {
          "output_type": "execute_result",
          "data": {
            "text/plain": [
              "array([0, 1])"
            ]
          },
          "metadata": {},
          "execution_count": 4
        }
      ]
    },
    {
      "cell_type": "code",
      "source": [
        "df.describe(include=\"all\")"
      ],
      "metadata": {
        "id": "Hccal7GCGMkh",
        "colab": {
          "base_uri": "https://localhost:8080/",
          "height": 493
        },
        "outputId": "d9629909-e077-4635-87ae-2185711c6031"
      },
      "execution_count": 5,
      "outputs": [
        {
          "output_type": "execute_result",
          "data": {
            "text/plain": [
              "               Index                 batting_team    bowling_team    city  \\\n",
              "count   72413.000000                        72413           72413   71581   \n",
              "unique           NaN                           10              10      29   \n",
              "top              NaN  Royal Challengers Bangalore  Mumbai Indians  Mumbai   \n",
              "freq             NaN                         9684           10807    9911   \n",
              "mean    36206.000000                          NaN             NaN     NaN   \n",
              "std     20903.976858                          NaN             NaN     NaN   \n",
              "min         0.000000                          NaN             NaN     NaN   \n",
              "25%     18103.000000                          NaN             NaN     NaN   \n",
              "50%     36206.000000                          NaN             NaN     NaN   \n",
              "75%     54309.000000                          NaN             NaN     NaN   \n",
              "max     72412.000000                          NaN             NaN     NaN   \n",
              "\n",
              "           runs_left    balls_left       wickets   target_runs  cur_run_rate  \\\n",
              "count   72413.000000  72413.000000  72413.000000  72413.000000  72413.000000   \n",
              "unique           NaN           NaN           NaN           NaN           NaN   \n",
              "top              NaN           NaN           NaN           NaN           NaN   \n",
              "freq             NaN           NaN           NaN           NaN           NaN   \n",
              "mean       93.258379     62.657078      7.535967    166.583956      7.439523   \n",
              "std        50.021962     33.404593      2.138637     29.282200      2.275850   \n",
              "min       -15.000000     -2.000000      0.000000     66.000000      0.000000   \n",
              "25%        54.000000     35.000000      6.000000    147.000000      6.257143   \n",
              "50%        93.000000     63.000000      8.000000    166.000000      7.480519   \n",
              "75%       131.000000     92.000000      9.000000    186.000000      8.682353   \n",
              "max       250.000000    119.000000     10.000000    251.000000     42.000000   \n",
              "\n",
              "       req_run_rate        result  \n",
              "count         72408  72413.000000  \n",
              "unique         8997           NaN  \n",
              "top               6           NaN  \n",
              "freq            692           NaN  \n",
              "mean            NaN      0.525624  \n",
              "std             NaN      0.499346  \n",
              "min             NaN      0.000000  \n",
              "25%             NaN      0.000000  \n",
              "50%             NaN      1.000000  \n",
              "75%             NaN      1.000000  \n",
              "max             NaN      1.000000  "
            ],
            "text/html": [
              "\n",
              "  <div id=\"df-db100464-b554-4e07-b98c-50b60b8c897e\">\n",
              "    <div class=\"colab-df-container\">\n",
              "      <div>\n",
              "<style scoped>\n",
              "    .dataframe tbody tr th:only-of-type {\n",
              "        vertical-align: middle;\n",
              "    }\n",
              "\n",
              "    .dataframe tbody tr th {\n",
              "        vertical-align: top;\n",
              "    }\n",
              "\n",
              "    .dataframe thead th {\n",
              "        text-align: right;\n",
              "    }\n",
              "</style>\n",
              "<table border=\"1\" class=\"dataframe\">\n",
              "  <thead>\n",
              "    <tr style=\"text-align: right;\">\n",
              "      <th></th>\n",
              "      <th>Index</th>\n",
              "      <th>batting_team</th>\n",
              "      <th>bowling_team</th>\n",
              "      <th>city</th>\n",
              "      <th>runs_left</th>\n",
              "      <th>balls_left</th>\n",
              "      <th>wickets</th>\n",
              "      <th>target_runs</th>\n",
              "      <th>cur_run_rate</th>\n",
              "      <th>req_run_rate</th>\n",
              "      <th>result</th>\n",
              "    </tr>\n",
              "  </thead>\n",
              "  <tbody>\n",
              "    <tr>\n",
              "      <th>count</th>\n",
              "      <td>72413.000000</td>\n",
              "      <td>72413</td>\n",
              "      <td>72413</td>\n",
              "      <td>71581</td>\n",
              "      <td>72413.000000</td>\n",
              "      <td>72413.000000</td>\n",
              "      <td>72413.000000</td>\n",
              "      <td>72413.000000</td>\n",
              "      <td>72413.000000</td>\n",
              "      <td>72408</td>\n",
              "      <td>72413.000000</td>\n",
              "    </tr>\n",
              "    <tr>\n",
              "      <th>unique</th>\n",
              "      <td>NaN</td>\n",
              "      <td>10</td>\n",
              "      <td>10</td>\n",
              "      <td>29</td>\n",
              "      <td>NaN</td>\n",
              "      <td>NaN</td>\n",
              "      <td>NaN</td>\n",
              "      <td>NaN</td>\n",
              "      <td>NaN</td>\n",
              "      <td>8997</td>\n",
              "      <td>NaN</td>\n",
              "    </tr>\n",
              "    <tr>\n",
              "      <th>top</th>\n",
              "      <td>NaN</td>\n",
              "      <td>Royal Challengers Bangalore</td>\n",
              "      <td>Mumbai Indians</td>\n",
              "      <td>Mumbai</td>\n",
              "      <td>NaN</td>\n",
              "      <td>NaN</td>\n",
              "      <td>NaN</td>\n",
              "      <td>NaN</td>\n",
              "      <td>NaN</td>\n",
              "      <td>6</td>\n",
              "      <td>NaN</td>\n",
              "    </tr>\n",
              "    <tr>\n",
              "      <th>freq</th>\n",
              "      <td>NaN</td>\n",
              "      <td>9684</td>\n",
              "      <td>10807</td>\n",
              "      <td>9911</td>\n",
              "      <td>NaN</td>\n",
              "      <td>NaN</td>\n",
              "      <td>NaN</td>\n",
              "      <td>NaN</td>\n",
              "      <td>NaN</td>\n",
              "      <td>692</td>\n",
              "      <td>NaN</td>\n",
              "    </tr>\n",
              "    <tr>\n",
              "      <th>mean</th>\n",
              "      <td>36206.000000</td>\n",
              "      <td>NaN</td>\n",
              "      <td>NaN</td>\n",
              "      <td>NaN</td>\n",
              "      <td>93.258379</td>\n",
              "      <td>62.657078</td>\n",
              "      <td>7.535967</td>\n",
              "      <td>166.583956</td>\n",
              "      <td>7.439523</td>\n",
              "      <td>NaN</td>\n",
              "      <td>0.525624</td>\n",
              "    </tr>\n",
              "    <tr>\n",
              "      <th>std</th>\n",
              "      <td>20903.976858</td>\n",
              "      <td>NaN</td>\n",
              "      <td>NaN</td>\n",
              "      <td>NaN</td>\n",
              "      <td>50.021962</td>\n",
              "      <td>33.404593</td>\n",
              "      <td>2.138637</td>\n",
              "      <td>29.282200</td>\n",
              "      <td>2.275850</td>\n",
              "      <td>NaN</td>\n",
              "      <td>0.499346</td>\n",
              "    </tr>\n",
              "    <tr>\n",
              "      <th>min</th>\n",
              "      <td>0.000000</td>\n",
              "      <td>NaN</td>\n",
              "      <td>NaN</td>\n",
              "      <td>NaN</td>\n",
              "      <td>-15.000000</td>\n",
              "      <td>-2.000000</td>\n",
              "      <td>0.000000</td>\n",
              "      <td>66.000000</td>\n",
              "      <td>0.000000</td>\n",
              "      <td>NaN</td>\n",
              "      <td>0.000000</td>\n",
              "    </tr>\n",
              "    <tr>\n",
              "      <th>25%</th>\n",
              "      <td>18103.000000</td>\n",
              "      <td>NaN</td>\n",
              "      <td>NaN</td>\n",
              "      <td>NaN</td>\n",
              "      <td>54.000000</td>\n",
              "      <td>35.000000</td>\n",
              "      <td>6.000000</td>\n",
              "      <td>147.000000</td>\n",
              "      <td>6.257143</td>\n",
              "      <td>NaN</td>\n",
              "      <td>0.000000</td>\n",
              "    </tr>\n",
              "    <tr>\n",
              "      <th>50%</th>\n",
              "      <td>36206.000000</td>\n",
              "      <td>NaN</td>\n",
              "      <td>NaN</td>\n",
              "      <td>NaN</td>\n",
              "      <td>93.000000</td>\n",
              "      <td>63.000000</td>\n",
              "      <td>8.000000</td>\n",
              "      <td>166.000000</td>\n",
              "      <td>7.480519</td>\n",
              "      <td>NaN</td>\n",
              "      <td>1.000000</td>\n",
              "    </tr>\n",
              "    <tr>\n",
              "      <th>75%</th>\n",
              "      <td>54309.000000</td>\n",
              "      <td>NaN</td>\n",
              "      <td>NaN</td>\n",
              "      <td>NaN</td>\n",
              "      <td>131.000000</td>\n",
              "      <td>92.000000</td>\n",
              "      <td>9.000000</td>\n",
              "      <td>186.000000</td>\n",
              "      <td>8.682353</td>\n",
              "      <td>NaN</td>\n",
              "      <td>1.000000</td>\n",
              "    </tr>\n",
              "    <tr>\n",
              "      <th>max</th>\n",
              "      <td>72412.000000</td>\n",
              "      <td>NaN</td>\n",
              "      <td>NaN</td>\n",
              "      <td>NaN</td>\n",
              "      <td>250.000000</td>\n",
              "      <td>119.000000</td>\n",
              "      <td>10.000000</td>\n",
              "      <td>251.000000</td>\n",
              "      <td>42.000000</td>\n",
              "      <td>NaN</td>\n",
              "      <td>1.000000</td>\n",
              "    </tr>\n",
              "  </tbody>\n",
              "</table>\n",
              "</div>\n",
              "      <button class=\"colab-df-convert\" onclick=\"convertToInteractive('df-db100464-b554-4e07-b98c-50b60b8c897e')\"\n",
              "              title=\"Convert this dataframe to an interactive table.\"\n",
              "              style=\"display:none;\">\n",
              "        \n",
              "  <svg xmlns=\"http://www.w3.org/2000/svg\" height=\"24px\"viewBox=\"0 0 24 24\"\n",
              "       width=\"24px\">\n",
              "    <path d=\"M0 0h24v24H0V0z\" fill=\"none\"/>\n",
              "    <path d=\"M18.56 5.44l.94 2.06.94-2.06 2.06-.94-2.06-.94-.94-2.06-.94 2.06-2.06.94zm-11 1L8.5 8.5l.94-2.06 2.06-.94-2.06-.94L8.5 2.5l-.94 2.06-2.06.94zm10 10l.94 2.06.94-2.06 2.06-.94-2.06-.94-.94-2.06-.94 2.06-2.06.94z\"/><path d=\"M17.41 7.96l-1.37-1.37c-.4-.4-.92-.59-1.43-.59-.52 0-1.04.2-1.43.59L10.3 9.45l-7.72 7.72c-.78.78-.78 2.05 0 2.83L4 21.41c.39.39.9.59 1.41.59.51 0 1.02-.2 1.41-.59l7.78-7.78 2.81-2.81c.8-.78.8-2.07 0-2.86zM5.41 20L4 18.59l7.72-7.72 1.47 1.35L5.41 20z\"/>\n",
              "  </svg>\n",
              "      </button>\n",
              "      \n",
              "  <style>\n",
              "    .colab-df-container {\n",
              "      display:flex;\n",
              "      flex-wrap:wrap;\n",
              "      gap: 12px;\n",
              "    }\n",
              "\n",
              "    .colab-df-convert {\n",
              "      background-color: #E8F0FE;\n",
              "      border: none;\n",
              "      border-radius: 50%;\n",
              "      cursor: pointer;\n",
              "      display: none;\n",
              "      fill: #1967D2;\n",
              "      height: 32px;\n",
              "      padding: 0 0 0 0;\n",
              "      width: 32px;\n",
              "    }\n",
              "\n",
              "    .colab-df-convert:hover {\n",
              "      background-color: #E2EBFA;\n",
              "      box-shadow: 0px 1px 2px rgba(60, 64, 67, 0.3), 0px 1px 3px 1px rgba(60, 64, 67, 0.15);\n",
              "      fill: #174EA6;\n",
              "    }\n",
              "\n",
              "    [theme=dark] .colab-df-convert {\n",
              "      background-color: #3B4455;\n",
              "      fill: #D2E3FC;\n",
              "    }\n",
              "\n",
              "    [theme=dark] .colab-df-convert:hover {\n",
              "      background-color: #434B5C;\n",
              "      box-shadow: 0px 1px 3px 1px rgba(0, 0, 0, 0.15);\n",
              "      filter: drop-shadow(0px 1px 2px rgba(0, 0, 0, 0.3));\n",
              "      fill: #FFFFFF;\n",
              "    }\n",
              "  </style>\n",
              "\n",
              "      <script>\n",
              "        const buttonEl =\n",
              "          document.querySelector('#df-db100464-b554-4e07-b98c-50b60b8c897e button.colab-df-convert');\n",
              "        buttonEl.style.display =\n",
              "          google.colab.kernel.accessAllowed ? 'block' : 'none';\n",
              "\n",
              "        async function convertToInteractive(key) {\n",
              "          const element = document.querySelector('#df-db100464-b554-4e07-b98c-50b60b8c897e');\n",
              "          const dataTable =\n",
              "            await google.colab.kernel.invokeFunction('convertToInteractive',\n",
              "                                                     [key], {});\n",
              "          if (!dataTable) return;\n",
              "\n",
              "          const docLinkHtml = 'Like what you see? Visit the ' +\n",
              "            '<a target=\"_blank\" href=https://colab.research.google.com/notebooks/data_table.ipynb>data table notebook</a>'\n",
              "            + ' to learn more about interactive tables.';\n",
              "          element.innerHTML = '';\n",
              "          dataTable['output_type'] = 'display_data';\n",
              "          await google.colab.output.renderOutput(dataTable, element);\n",
              "          const docLink = document.createElement('div');\n",
              "          docLink.innerHTML = docLinkHtml;\n",
              "          element.appendChild(docLink);\n",
              "        }\n",
              "      </script>\n",
              "    </div>\n",
              "  </div>\n",
              "  "
            ]
          },
          "metadata": {},
          "execution_count": 5
        }
      ]
    },
    {
      "cell_type": "code",
      "source": [
        "df.isnull().sum()"
      ],
      "metadata": {
        "id": "mlpA96kUG_1L"
      },
      "execution_count": null,
      "outputs": []
    },
    {
      "cell_type": "code",
      "source": [
        "df=df.dropna()"
      ],
      "metadata": {
        "id": "coeGiIqGHp61"
      },
      "execution_count": 7,
      "outputs": []
    },
    {
      "cell_type": "code",
      "source": [
        "df.isnull().sum()"
      ],
      "metadata": {
        "id": "22tye6MOHsyj",
        "colab": {
          "base_uri": "https://localhost:8080/"
        },
        "outputId": "e400b47f-acf4-447b-b5f3-73f753af2cc6"
      },
      "execution_count": 8,
      "outputs": [
        {
          "output_type": "execute_result",
          "data": {
            "text/plain": [
              "Index           0\n",
              "batting_team    0\n",
              "bowling_team    0\n",
              "city            0\n",
              "runs_left       0\n",
              "balls_left      0\n",
              "wickets         0\n",
              "target_runs     0\n",
              "cur_run_rate    0\n",
              "req_run_rate    0\n",
              "result          0\n",
              "dtype: int64"
            ]
          },
          "metadata": {},
          "execution_count": 8
        }
      ]
    },
    {
      "cell_type": "code",
      "source": [
        "from sklearn.preprocessing import LabelEncoder\n",
        "le=LabelEncoder()\n",
        "df[\"Batting_team\"]=le.fit_transform(df[\"batting_team\"])\n",
        "df[\"Bowling_team\"]=le.fit_transform(df[\"bowling_team\"])"
      ],
      "metadata": {
        "id": "IiOQG87tHy9Y"
      },
      "execution_count": 9,
      "outputs": []
    },
    {
      "cell_type": "code",
      "source": [
        "df[\"Batting_team\"].unique()"
      ],
      "metadata": {
        "id": "QU4RVlr4VdHI",
        "colab": {
          "base_uri": "https://localhost:8080/"
        },
        "outputId": "68ba1ee1-6f14-49bd-c335-0cc7846a8228"
      },
      "execution_count": 10,
      "outputs": [
        {
          "output_type": "execute_result",
          "data": {
            "text/plain": [
              "array([8, 3, 6, 4, 5, 9, 7, 0, 1, 2])"
            ]
          },
          "metadata": {},
          "execution_count": 10
        }
      ]
    },
    {
      "cell_type": "code",
      "source": [
        "df[\"Bowling_team\"].unique()\n",
        "df[\"result\"].unique()"
      ],
      "metadata": {
        "id": "t6sGHTECVeft",
        "colab": {
          "base_uri": "https://localhost:8080/"
        },
        "outputId": "bb2cd2d1-e2bb-4827-a1dc-7013f5097509"
      },
      "execution_count": 11,
      "outputs": [
        {
          "output_type": "execute_result",
          "data": {
            "text/plain": [
              "array([0, 1])"
            ]
          },
          "metadata": {},
          "execution_count": 11
        }
      ]
    },
    {
      "cell_type": "code",
      "source": [
        "df.head()"
      ],
      "metadata": {
        "id": "dG8eDPCxXOfb",
        "colab": {
          "base_uri": "https://localhost:8080/",
          "height": 444
        },
        "outputId": "d4156f83-1b96-4be0-a9a8-c0449de5679c"
      },
      "execution_count": 12,
      "outputs": [
        {
          "output_type": "execute_result",
          "data": {
            "text/plain": [
              "   Index                 batting_team         bowling_team       city  \\\n",
              "0      0  Royal Challengers Bangalore  Sunrisers Hyderabad  Hyderabad   \n",
              "1      1  Royal Challengers Bangalore  Sunrisers Hyderabad  Hyderabad   \n",
              "2      2  Royal Challengers Bangalore  Sunrisers Hyderabad  Hyderabad   \n",
              "3      3  Royal Challengers Bangalore  Sunrisers Hyderabad  Hyderabad   \n",
              "4      4  Royal Challengers Bangalore  Sunrisers Hyderabad  Hyderabad   \n",
              "\n",
              "   runs_left  balls_left  wickets  target_runs  cur_run_rate req_run_rate  \\\n",
              "0        207         119       10          208           6.0  10.43697479   \n",
              "1        207         118       10          208           3.0  10.52542373   \n",
              "2        207         117       10          208           2.0  10.61538462   \n",
              "3        205         116       10          208           4.5  10.60344828   \n",
              "4        201         115       10          208           8.4  10.48695652   \n",
              "\n",
              "   result  Batting_team  Bowling_team  \n",
              "0       0             8             9  \n",
              "1       0             8             9  \n",
              "2       0             8             9  \n",
              "3       0             8             9  \n",
              "4       0             8             9  "
            ],
            "text/html": [
              "\n",
              "  <div id=\"df-f7711d8d-2a65-449c-a2cb-339510c39c8a\">\n",
              "    <div class=\"colab-df-container\">\n",
              "      <div>\n",
              "<style scoped>\n",
              "    .dataframe tbody tr th:only-of-type {\n",
              "        vertical-align: middle;\n",
              "    }\n",
              "\n",
              "    .dataframe tbody tr th {\n",
              "        vertical-align: top;\n",
              "    }\n",
              "\n",
              "    .dataframe thead th {\n",
              "        text-align: right;\n",
              "    }\n",
              "</style>\n",
              "<table border=\"1\" class=\"dataframe\">\n",
              "  <thead>\n",
              "    <tr style=\"text-align: right;\">\n",
              "      <th></th>\n",
              "      <th>Index</th>\n",
              "      <th>batting_team</th>\n",
              "      <th>bowling_team</th>\n",
              "      <th>city</th>\n",
              "      <th>runs_left</th>\n",
              "      <th>balls_left</th>\n",
              "      <th>wickets</th>\n",
              "      <th>target_runs</th>\n",
              "      <th>cur_run_rate</th>\n",
              "      <th>req_run_rate</th>\n",
              "      <th>result</th>\n",
              "      <th>Batting_team</th>\n",
              "      <th>Bowling_team</th>\n",
              "    </tr>\n",
              "  </thead>\n",
              "  <tbody>\n",
              "    <tr>\n",
              "      <th>0</th>\n",
              "      <td>0</td>\n",
              "      <td>Royal Challengers Bangalore</td>\n",
              "      <td>Sunrisers Hyderabad</td>\n",
              "      <td>Hyderabad</td>\n",
              "      <td>207</td>\n",
              "      <td>119</td>\n",
              "      <td>10</td>\n",
              "      <td>208</td>\n",
              "      <td>6.0</td>\n",
              "      <td>10.43697479</td>\n",
              "      <td>0</td>\n",
              "      <td>8</td>\n",
              "      <td>9</td>\n",
              "    </tr>\n",
              "    <tr>\n",
              "      <th>1</th>\n",
              "      <td>1</td>\n",
              "      <td>Royal Challengers Bangalore</td>\n",
              "      <td>Sunrisers Hyderabad</td>\n",
              "      <td>Hyderabad</td>\n",
              "      <td>207</td>\n",
              "      <td>118</td>\n",
              "      <td>10</td>\n",
              "      <td>208</td>\n",
              "      <td>3.0</td>\n",
              "      <td>10.52542373</td>\n",
              "      <td>0</td>\n",
              "      <td>8</td>\n",
              "      <td>9</td>\n",
              "    </tr>\n",
              "    <tr>\n",
              "      <th>2</th>\n",
              "      <td>2</td>\n",
              "      <td>Royal Challengers Bangalore</td>\n",
              "      <td>Sunrisers Hyderabad</td>\n",
              "      <td>Hyderabad</td>\n",
              "      <td>207</td>\n",
              "      <td>117</td>\n",
              "      <td>10</td>\n",
              "      <td>208</td>\n",
              "      <td>2.0</td>\n",
              "      <td>10.61538462</td>\n",
              "      <td>0</td>\n",
              "      <td>8</td>\n",
              "      <td>9</td>\n",
              "    </tr>\n",
              "    <tr>\n",
              "      <th>3</th>\n",
              "      <td>3</td>\n",
              "      <td>Royal Challengers Bangalore</td>\n",
              "      <td>Sunrisers Hyderabad</td>\n",
              "      <td>Hyderabad</td>\n",
              "      <td>205</td>\n",
              "      <td>116</td>\n",
              "      <td>10</td>\n",
              "      <td>208</td>\n",
              "      <td>4.5</td>\n",
              "      <td>10.60344828</td>\n",
              "      <td>0</td>\n",
              "      <td>8</td>\n",
              "      <td>9</td>\n",
              "    </tr>\n",
              "    <tr>\n",
              "      <th>4</th>\n",
              "      <td>4</td>\n",
              "      <td>Royal Challengers Bangalore</td>\n",
              "      <td>Sunrisers Hyderabad</td>\n",
              "      <td>Hyderabad</td>\n",
              "      <td>201</td>\n",
              "      <td>115</td>\n",
              "      <td>10</td>\n",
              "      <td>208</td>\n",
              "      <td>8.4</td>\n",
              "      <td>10.48695652</td>\n",
              "      <td>0</td>\n",
              "      <td>8</td>\n",
              "      <td>9</td>\n",
              "    </tr>\n",
              "  </tbody>\n",
              "</table>\n",
              "</div>\n",
              "      <button class=\"colab-df-convert\" onclick=\"convertToInteractive('df-f7711d8d-2a65-449c-a2cb-339510c39c8a')\"\n",
              "              title=\"Convert this dataframe to an interactive table.\"\n",
              "              style=\"display:none;\">\n",
              "        \n",
              "  <svg xmlns=\"http://www.w3.org/2000/svg\" height=\"24px\"viewBox=\"0 0 24 24\"\n",
              "       width=\"24px\">\n",
              "    <path d=\"M0 0h24v24H0V0z\" fill=\"none\"/>\n",
              "    <path d=\"M18.56 5.44l.94 2.06.94-2.06 2.06-.94-2.06-.94-.94-2.06-.94 2.06-2.06.94zm-11 1L8.5 8.5l.94-2.06 2.06-.94-2.06-.94L8.5 2.5l-.94 2.06-2.06.94zm10 10l.94 2.06.94-2.06 2.06-.94-2.06-.94-.94-2.06-.94 2.06-2.06.94z\"/><path d=\"M17.41 7.96l-1.37-1.37c-.4-.4-.92-.59-1.43-.59-.52 0-1.04.2-1.43.59L10.3 9.45l-7.72 7.72c-.78.78-.78 2.05 0 2.83L4 21.41c.39.39.9.59 1.41.59.51 0 1.02-.2 1.41-.59l7.78-7.78 2.81-2.81c.8-.78.8-2.07 0-2.86zM5.41 20L4 18.59l7.72-7.72 1.47 1.35L5.41 20z\"/>\n",
              "  </svg>\n",
              "      </button>\n",
              "      \n",
              "  <style>\n",
              "    .colab-df-container {\n",
              "      display:flex;\n",
              "      flex-wrap:wrap;\n",
              "      gap: 12px;\n",
              "    }\n",
              "\n",
              "    .colab-df-convert {\n",
              "      background-color: #E8F0FE;\n",
              "      border: none;\n",
              "      border-radius: 50%;\n",
              "      cursor: pointer;\n",
              "      display: none;\n",
              "      fill: #1967D2;\n",
              "      height: 32px;\n",
              "      padding: 0 0 0 0;\n",
              "      width: 32px;\n",
              "    }\n",
              "\n",
              "    .colab-df-convert:hover {\n",
              "      background-color: #E2EBFA;\n",
              "      box-shadow: 0px 1px 2px rgba(60, 64, 67, 0.3), 0px 1px 3px 1px rgba(60, 64, 67, 0.15);\n",
              "      fill: #174EA6;\n",
              "    }\n",
              "\n",
              "    [theme=dark] .colab-df-convert {\n",
              "      background-color: #3B4455;\n",
              "      fill: #D2E3FC;\n",
              "    }\n",
              "\n",
              "    [theme=dark] .colab-df-convert:hover {\n",
              "      background-color: #434B5C;\n",
              "      box-shadow: 0px 1px 3px 1px rgba(0, 0, 0, 0.15);\n",
              "      filter: drop-shadow(0px 1px 2px rgba(0, 0, 0, 0.3));\n",
              "      fill: #FFFFFF;\n",
              "    }\n",
              "  </style>\n",
              "\n",
              "      <script>\n",
              "        const buttonEl =\n",
              "          document.querySelector('#df-f7711d8d-2a65-449c-a2cb-339510c39c8a button.colab-df-convert');\n",
              "        buttonEl.style.display =\n",
              "          google.colab.kernel.accessAllowed ? 'block' : 'none';\n",
              "\n",
              "        async function convertToInteractive(key) {\n",
              "          const element = document.querySelector('#df-f7711d8d-2a65-449c-a2cb-339510c39c8a');\n",
              "          const dataTable =\n",
              "            await google.colab.kernel.invokeFunction('convertToInteractive',\n",
              "                                                     [key], {});\n",
              "          if (!dataTable) return;\n",
              "\n",
              "          const docLinkHtml = 'Like what you see? Visit the ' +\n",
              "            '<a target=\"_blank\" href=https://colab.research.google.com/notebooks/data_table.ipynb>data table notebook</a>'\n",
              "            + ' to learn more about interactive tables.';\n",
              "          element.innerHTML = '';\n",
              "          dataTable['output_type'] = 'display_data';\n",
              "          await google.colab.output.renderOutput(dataTable, element);\n",
              "          const docLink = document.createElement('div');\n",
              "          docLink.innerHTML = docLinkHtml;\n",
              "          element.appendChild(docLink);\n",
              "        }\n",
              "      </script>\n",
              "    </div>\n",
              "  </div>\n",
              "  "
            ]
          },
          "metadata": {},
          "execution_count": 12
        }
      ]
    },
    {
      "cell_type": "code",
      "source": [
        "df[\"req_run_rate\"].unique()"
      ],
      "metadata": {
        "id": "ubZ_FMgJXPym",
        "colab": {
          "base_uri": "https://localhost:8080/"
        },
        "outputId": "71306053-f456-4741-d62e-16797824c411"
      },
      "execution_count": 13,
      "outputs": [
        {
          "output_type": "execute_result",
          "data": {
            "text/plain": [
              "array(['10.43697479', '10.52542373', '10.61538462', ..., '-3.857142857',\n",
              "       '-4.615384615', '-3.666666667'], dtype=object)"
            ]
          },
          "metadata": {},
          "execution_count": 13
        }
      ]
    },
    {
      "cell_type": "code",
      "source": [
        "df.isnull().sum()"
      ],
      "metadata": {
        "id": "S-wbkPTefkCc",
        "colab": {
          "base_uri": "https://localhost:8080/"
        },
        "outputId": "26684365-f37a-4fb3-e09b-5c1464aa00a8"
      },
      "execution_count": 16,
      "outputs": [
        {
          "output_type": "execute_result",
          "data": {
            "text/plain": [
              "Index           0\n",
              "batting_team    0\n",
              "bowling_team    0\n",
              "city            0\n",
              "runs_left       0\n",
              "balls_left      0\n",
              "wickets         0\n",
              "target_runs     0\n",
              "cur_run_rate    0\n",
              "req_run_rate    0\n",
              "result          0\n",
              "Batting_team    0\n",
              "Bowling_team    0\n",
              "dtype: int64"
            ]
          },
          "metadata": {},
          "execution_count": 16
        }
      ]
    },
    {
      "cell_type": "code",
      "source": [
        "for i in (df[\"batting_team\"].unique()):\n",
        "  c=df[\"result\"][df[\"batting_team\"] ==i ].value_counts(normalize = True)[1]*100\n",
        "  cd=df[\"result\"][df[\"bowling_team\"] ==i].value_counts(normalize = True)[1]*100\n",
        "  print(\"percentage of match won by {} is {} \".format(i,(c+cd)/2))\n",
        "\n",
        "\n"
      ],
      "metadata": {
        "id": "IjQIgooRghIU",
        "colab": {
          "base_uri": "https://localhost:8080/"
        },
        "outputId": "af3828a4-634e-42f5-dac6-edb7a3b9a678"
      },
      "execution_count": 15,
      "outputs": [
        {
          "output_type": "stream",
          "name": "stdout",
          "text": [
            "percentage of match won by Royal Challengers Bangalore is 54.22333089624397 \n",
            "percentage of match won by Delhi Daredevils is 53.802589367141806 \n",
            "percentage of match won by Mumbai Indians is 48.266838815502325 \n",
            "percentage of match won by Kings XI Punjab is 49.90503892577226 \n",
            "percentage of match won by Kolkata Knight Riders is 56.72726348794967 \n",
            "percentage of match won by Sunrisers Hyderabad is 54.83440366766904 \n",
            "percentage of match won by Rajasthan Royals is 55.231556105110585 \n",
            "percentage of match won by Chennai Super Kings is 53.37224148506533 \n",
            "percentage of match won by Deccan Chargers is 45.177863793843656 \n",
            "percentage of match won by Delhi Capitals is 59.97076481651155 \n"
          ]
        }
      ]
    },
    {
      "cell_type": "code",
      "source": [
        "df.drop(df[df['req_run_rate'] == '#NAME?'].index, inplace = True)"
      ],
      "metadata": {
        "id": "yUZ9fGgmZMaz"
      },
      "execution_count": 17,
      "outputs": []
    },
    {
      "cell_type": "code",
      "source": [
        "df = df.drop(['batting_team', 'bowling_team'], axis = 1)"
      ],
      "metadata": {
        "id": "LA8A2lTc8lrQ"
      },
      "execution_count": 18,
      "outputs": []
    },
    {
      "cell_type": "code",
      "source": [
        "df.loc[df[df['req_run_rate']=='inf'].index ,'req_run_rate'] = \"1000000\""
      ],
      "metadata": {
        "id": "HwABDMl2TGa2"
      },
      "execution_count": 19,
      "outputs": []
    },
    {
      "cell_type": "code",
      "source": [
        "df['req_run_rate'] = df['req_run_rate'].astype('float64', copy = False)"
      ],
      "metadata": {
        "id": "O4h3APQMTMVd"
      },
      "execution_count": 20,
      "outputs": []
    },
    {
      "cell_type": "code",
      "source": [
        "df.head()"
      ],
      "metadata": {
        "id": "PDxdD5_STePV",
        "colab": {
          "base_uri": "https://localhost:8080/",
          "height": 270
        },
        "outputId": "df85753e-f622-4e5b-fb7b-8149ff67112d"
      },
      "execution_count": 21,
      "outputs": [
        {
          "output_type": "execute_result",
          "data": {
            "text/plain": [
              "   Index       city  runs_left  balls_left  wickets  target_runs  \\\n",
              "0      0  Hyderabad        207         119       10          208   \n",
              "1      1  Hyderabad        207         118       10          208   \n",
              "2      2  Hyderabad        207         117       10          208   \n",
              "3      3  Hyderabad        205         116       10          208   \n",
              "4      4  Hyderabad        201         115       10          208   \n",
              "\n",
              "   cur_run_rate  req_run_rate  result  Batting_team  Bowling_team  \n",
              "0           6.0     10.436975       0             8             9  \n",
              "1           3.0     10.525424       0             8             9  \n",
              "2           2.0     10.615385       0             8             9  \n",
              "3           4.5     10.603448       0             8             9  \n",
              "4           8.4     10.486957       0             8             9  "
            ],
            "text/html": [
              "\n",
              "  <div id=\"df-449dd055-2d06-459c-90b4-5c103266d698\">\n",
              "    <div class=\"colab-df-container\">\n",
              "      <div>\n",
              "<style scoped>\n",
              "    .dataframe tbody tr th:only-of-type {\n",
              "        vertical-align: middle;\n",
              "    }\n",
              "\n",
              "    .dataframe tbody tr th {\n",
              "        vertical-align: top;\n",
              "    }\n",
              "\n",
              "    .dataframe thead th {\n",
              "        text-align: right;\n",
              "    }\n",
              "</style>\n",
              "<table border=\"1\" class=\"dataframe\">\n",
              "  <thead>\n",
              "    <tr style=\"text-align: right;\">\n",
              "      <th></th>\n",
              "      <th>Index</th>\n",
              "      <th>city</th>\n",
              "      <th>runs_left</th>\n",
              "      <th>balls_left</th>\n",
              "      <th>wickets</th>\n",
              "      <th>target_runs</th>\n",
              "      <th>cur_run_rate</th>\n",
              "      <th>req_run_rate</th>\n",
              "      <th>result</th>\n",
              "      <th>Batting_team</th>\n",
              "      <th>Bowling_team</th>\n",
              "    </tr>\n",
              "  </thead>\n",
              "  <tbody>\n",
              "    <tr>\n",
              "      <th>0</th>\n",
              "      <td>0</td>\n",
              "      <td>Hyderabad</td>\n",
              "      <td>207</td>\n",
              "      <td>119</td>\n",
              "      <td>10</td>\n",
              "      <td>208</td>\n",
              "      <td>6.0</td>\n",
              "      <td>10.436975</td>\n",
              "      <td>0</td>\n",
              "      <td>8</td>\n",
              "      <td>9</td>\n",
              "    </tr>\n",
              "    <tr>\n",
              "      <th>1</th>\n",
              "      <td>1</td>\n",
              "      <td>Hyderabad</td>\n",
              "      <td>207</td>\n",
              "      <td>118</td>\n",
              "      <td>10</td>\n",
              "      <td>208</td>\n",
              "      <td>3.0</td>\n",
              "      <td>10.525424</td>\n",
              "      <td>0</td>\n",
              "      <td>8</td>\n",
              "      <td>9</td>\n",
              "    </tr>\n",
              "    <tr>\n",
              "      <th>2</th>\n",
              "      <td>2</td>\n",
              "      <td>Hyderabad</td>\n",
              "      <td>207</td>\n",
              "      <td>117</td>\n",
              "      <td>10</td>\n",
              "      <td>208</td>\n",
              "      <td>2.0</td>\n",
              "      <td>10.615385</td>\n",
              "      <td>0</td>\n",
              "      <td>8</td>\n",
              "      <td>9</td>\n",
              "    </tr>\n",
              "    <tr>\n",
              "      <th>3</th>\n",
              "      <td>3</td>\n",
              "      <td>Hyderabad</td>\n",
              "      <td>205</td>\n",
              "      <td>116</td>\n",
              "      <td>10</td>\n",
              "      <td>208</td>\n",
              "      <td>4.5</td>\n",
              "      <td>10.603448</td>\n",
              "      <td>0</td>\n",
              "      <td>8</td>\n",
              "      <td>9</td>\n",
              "    </tr>\n",
              "    <tr>\n",
              "      <th>4</th>\n",
              "      <td>4</td>\n",
              "      <td>Hyderabad</td>\n",
              "      <td>201</td>\n",
              "      <td>115</td>\n",
              "      <td>10</td>\n",
              "      <td>208</td>\n",
              "      <td>8.4</td>\n",
              "      <td>10.486957</td>\n",
              "      <td>0</td>\n",
              "      <td>8</td>\n",
              "      <td>9</td>\n",
              "    </tr>\n",
              "  </tbody>\n",
              "</table>\n",
              "</div>\n",
              "      <button class=\"colab-df-convert\" onclick=\"convertToInteractive('df-449dd055-2d06-459c-90b4-5c103266d698')\"\n",
              "              title=\"Convert this dataframe to an interactive table.\"\n",
              "              style=\"display:none;\">\n",
              "        \n",
              "  <svg xmlns=\"http://www.w3.org/2000/svg\" height=\"24px\"viewBox=\"0 0 24 24\"\n",
              "       width=\"24px\">\n",
              "    <path d=\"M0 0h24v24H0V0z\" fill=\"none\"/>\n",
              "    <path d=\"M18.56 5.44l.94 2.06.94-2.06 2.06-.94-2.06-.94-.94-2.06-.94 2.06-2.06.94zm-11 1L8.5 8.5l.94-2.06 2.06-.94-2.06-.94L8.5 2.5l-.94 2.06-2.06.94zm10 10l.94 2.06.94-2.06 2.06-.94-2.06-.94-.94-2.06-.94 2.06-2.06.94z\"/><path d=\"M17.41 7.96l-1.37-1.37c-.4-.4-.92-.59-1.43-.59-.52 0-1.04.2-1.43.59L10.3 9.45l-7.72 7.72c-.78.78-.78 2.05 0 2.83L4 21.41c.39.39.9.59 1.41.59.51 0 1.02-.2 1.41-.59l7.78-7.78 2.81-2.81c.8-.78.8-2.07 0-2.86zM5.41 20L4 18.59l7.72-7.72 1.47 1.35L5.41 20z\"/>\n",
              "  </svg>\n",
              "      </button>\n",
              "      \n",
              "  <style>\n",
              "    .colab-df-container {\n",
              "      display:flex;\n",
              "      flex-wrap:wrap;\n",
              "      gap: 12px;\n",
              "    }\n",
              "\n",
              "    .colab-df-convert {\n",
              "      background-color: #E8F0FE;\n",
              "      border: none;\n",
              "      border-radius: 50%;\n",
              "      cursor: pointer;\n",
              "      display: none;\n",
              "      fill: #1967D2;\n",
              "      height: 32px;\n",
              "      padding: 0 0 0 0;\n",
              "      width: 32px;\n",
              "    }\n",
              "\n",
              "    .colab-df-convert:hover {\n",
              "      background-color: #E2EBFA;\n",
              "      box-shadow: 0px 1px 2px rgba(60, 64, 67, 0.3), 0px 1px 3px 1px rgba(60, 64, 67, 0.15);\n",
              "      fill: #174EA6;\n",
              "    }\n",
              "\n",
              "    [theme=dark] .colab-df-convert {\n",
              "      background-color: #3B4455;\n",
              "      fill: #D2E3FC;\n",
              "    }\n",
              "\n",
              "    [theme=dark] .colab-df-convert:hover {\n",
              "      background-color: #434B5C;\n",
              "      box-shadow: 0px 1px 3px 1px rgba(0, 0, 0, 0.15);\n",
              "      filter: drop-shadow(0px 1px 2px rgba(0, 0, 0, 0.3));\n",
              "      fill: #FFFFFF;\n",
              "    }\n",
              "  </style>\n",
              "\n",
              "      <script>\n",
              "        const buttonEl =\n",
              "          document.querySelector('#df-449dd055-2d06-459c-90b4-5c103266d698 button.colab-df-convert');\n",
              "        buttonEl.style.display =\n",
              "          google.colab.kernel.accessAllowed ? 'block' : 'none';\n",
              "\n",
              "        async function convertToInteractive(key) {\n",
              "          const element = document.querySelector('#df-449dd055-2d06-459c-90b4-5c103266d698');\n",
              "          const dataTable =\n",
              "            await google.colab.kernel.invokeFunction('convertToInteractive',\n",
              "                                                     [key], {});\n",
              "          if (!dataTable) return;\n",
              "\n",
              "          const docLinkHtml = 'Like what you see? Visit the ' +\n",
              "            '<a target=\"_blank\" href=https://colab.research.google.com/notebooks/data_table.ipynb>data table notebook</a>'\n",
              "            + ' to learn more about interactive tables.';\n",
              "          element.innerHTML = '';\n",
              "          dataTable['output_type'] = 'display_data';\n",
              "          await google.colab.output.renderOutput(dataTable, element);\n",
              "          const docLink = document.createElement('div');\n",
              "          docLink.innerHTML = docLinkHtml;\n",
              "          element.appendChild(docLink);\n",
              "        }\n",
              "      </script>\n",
              "    </div>\n",
              "  </div>\n",
              "  "
            ]
          },
          "metadata": {},
          "execution_count": 21
        }
      ]
    },
    {
      "cell_type": "code",
      "source": [
        "corr = df.corr()\n",
        "columns = ['runs_left', 'balls_left', 'wickets', 'target_runs', 'cur_run_rate', 'req_run_rate', 'result']\n",
        "numeric_corr = corr.loc[columns][columns]"
      ],
      "metadata": {
        "id": "lH1x4TteV4cx"
      },
      "execution_count": 22,
      "outputs": []
    },
    {
      "cell_type": "code",
      "source": [
        "import matplotlib.pyplot as plt\n",
        "import seaborn as sns\n",
        "fig, ax = plt.subplots(figsize=(10, 6))\n",
        "sns.heatmap(numeric_corr, ax=ax,  cmap=\"Blues\", annot=True)"
      ],
      "metadata": {
        "id": "KXCZvq6rWTj6",
        "colab": {
          "base_uri": "https://localhost:8080/",
          "height": 396
        },
        "outputId": "c36200ed-10da-4f6e-aa72-350f33774f0f"
      },
      "execution_count": 24,
      "outputs": [
        {
          "output_type": "execute_result",
          "data": {
            "text/plain": [
              "<matplotlib.axes._subplots.AxesSubplot at 0x7fcc90c835d0>"
            ]
          },
          "metadata": {},
          "execution_count": 24
        },
        {
          "output_type": "display_data",
          "data": {
            "text/plain": [
              "<Figure size 720x432 with 2 Axes>"
            ],
            "image/png": "[encoded data removed]"
          },
          "metadata": {
            "needs_background": "light"
          }
        }
      ]
    },
    {
      "cell_type": "code",
      "source": [
        "from sklearn.model_selection import train_test_split\n",
        "df.head()\n",
        "from sklearn.preprocessing import LabelEncoder\n",
        "le=LabelEncoder()\n",
        "df[\"city\"]=le.fit_transform(df[\"city\"])"
      ],
      "metadata": {
        "id": "0EVJ6OC3ZyEn"
      },
      "execution_count": 34,
      "outputs": []
    },
    {
      "cell_type": "code",
      "source": [
        "X = df.drop(['result'], axis=1)\n",
        "y = df['result']\n",
        "x_train, x_val, y_train, y_val = train_test_split(X, y, test_size=0.33, random_state=42)"
      ],
      "metadata": {
        "id": "bQMzJYvhaNbS"
      },
      "execution_count": 37,
      "outputs": []
    },
    {
      "cell_type": "code",
      "source": [
        "from sklearn.naive_bayes import GaussianNB\n",
        "from sklearn.metrics import accuracy_score\n",
        "g=GaussianNB()\n",
        "g.fit(x_train,y_train)\n",
        "y_pred=g.predict(x_val)\n",
        "print(accuracy_score(y_pred,y_val))"
      ],
      "metadata": {
        "colab": {
          "base_uri": "https://localhost:8080/"
        },
        "id": "C84lGGBXae73",
        "outputId": "b5b56b3c-b6ae-48c9-f7f5-9fb9be23e0db"
      },
      "execution_count": 38,
      "outputs": [
        {
          "output_type": "stream",
          "name": "stdout",
          "text": [
            "0.6342310298102981\n"
          ]
        }
      ]
    },
    {
      "cell_type": "code",
      "source": [
        "from sklearn.linear_model import LogisticRegression\n",
        "lg=LogisticRegression()\n",
        "lg.fit(x_train,y_train)\n",
        "y_pred=lg.predict(x_val)\n",
        "print(accuracy_score(y_pred,y_val))"
      ],
      "metadata": {
        "colab": {
          "base_uri": "https://localhost:8080/"
        },
        "id": "omtQL-P8a6JX",
        "outputId": "c13ce124-5333-44bf-c87f-fb2db185de31"
      },
      "execution_count": 41,
      "outputs": [
        {
          "output_type": "stream",
          "name": "stdout",
          "text": [
            "0.7541920731707317\n"
          ]
        },
        {
          "output_type": "stream",
          "name": "stderr",
          "text": [
            "/usr/local/lib/python3.7/dist-packages/sklearn/linear_model/_logistic.py:818: ConvergenceWarning: lbfgs failed to converge (status=1):\n",
            "STOP: TOTAL NO. of ITERATIONS REACHED LIMIT.\n",
            "\n",
            "Increase the number of iterations (max_iter) or scale the data as shown in:\n",
            "    https://scikit-learn.org/stable/modules/preprocessing.html\n",
            "Please also refer to the documentation for alternative solver options:\n",
            "    https://scikit-learn.org/stable/modules/linear_model.html#logistic-regression\n",
            "  extra_warning_msg=_LOGISTIC_SOLVER_CONVERGENCE_MSG,\n"
          ]
        }
      ]
    },
    {
      "cell_type": "code",
      "source": [
        "from sklearn.tree import DecisionTreeClassifier\n",
        "sd=DecisionTreeClassifier()\n",
        "sd.fit(x_train,y_train)\n",
        "y_pred=sd.predict(x_val)\n",
        "ac1=accuracy_score(y_pred,y_val)\n"
      ],
      "metadata": {
        "id": "yEIYJpw3b3fY"
      },
      "execution_count": 48,
      "outputs": []
    },
    {
      "cell_type": "code",
      "source": [
        "from sklearn.ensemble import RandomForestClassifier\n",
        "sr=RandomForestClassifier()\n",
        "sr.fit(x_train,y_train)\n",
        "y_pred=sr.predict(x_val)\n",
        "ac2=accuracy_score(y_pred,y_val)"
      ],
      "metadata": {
        "id": "vuTn4KIDcR8R"
      },
      "execution_count": 50,
      "outputs": []
    },
    {
      "cell_type": "code",
      "source": [
        "from sklearn.neighbors import KNeighborsClassifier\n",
        "sk=KNeighborsClassifier()\n",
        "sk.fit(x_train,y_train)\n",
        "y_pred=sk.predict(x_val)\n",
        "ac3=accuracy_score(y_pred,y_val)"
      ],
      "metadata": {
        "id": "U0PqD2FKcXjl"
      },
      "execution_count": 49,
      "outputs": []
    },
    {
      "cell_type": "code",
      "source": [
        "from sklearn.ensemble import GradientBoostingClassifier\n",
        "\n",
        "gbk = GradientBoostingClassifier()\n",
        "gbk.fit(x_train, y_train)\n",
        "y_pred = gbk.predict(x_val)\n",
        "acc_gbk =accuracy_score(y_pred, y_val)\n",
        "ac4=acc_gbk"
      ],
      "metadata": {
        "id": "jbub2WJacdFS"
      },
      "execution_count": 51,
      "outputs": []
    },
    {
      "cell_type": "code",
      "source": [
        "col=[\"DecisionTreeClassifier\",\"RandomForestClassifier\",\"KNeighborsClassifier\",\"GradientBoostingClassifier\"]\n",
        "acc=[ac1,ac2,ac3,ac4]\n",
        "plt.figure(figsize=(16,8))\n",
        "\n",
        "sns.barplot(x=col,y=acc)"
      ],
      "metadata": {
        "colab": {
          "base_uri": "https://localhost:8080/",
          "height": 464
        },
        "id": "1rE2XAwYchWH",
        "outputId": "6ae5bbc1-0a0f-411a-b4e0-271290dfb0a8"
      },
      "execution_count": 56,
      "outputs": [
        {
          "output_type": "execute_result",
          "data": {
            "text/plain": [
              "<matplotlib.axes._subplots.AxesSubplot at 0x7fcc8c428950>"
            ]
          },
          "metadata": {},
          "execution_count": 56
        },
        {
          "output_type": "display_data",
          "data": {
            "text/plain": [
              "<Figure size 1152x576 with 1 Axes>"
            ],
            "image/png": "[encoded data removed]"
          },
          "metadata": {
            "needs_background": "light"
          }
        }
      ]
    },
    {
      "cell_type": "code",
      "source": [],
      "metadata": {
        "id": "0kukGmHSeE0A"
      },
      "execution_count": null,
      "outputs": []
    }
  ]
}